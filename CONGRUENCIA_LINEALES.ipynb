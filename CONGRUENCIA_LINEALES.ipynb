{
 "cells": [
  {
   "cell_type": "markdown",
   "metadata": {},
   "source": [
    "# Deber Congruencias Lienales\n",
    "\n",
    "### Nombre: Malki Yupanki\n",
    "\n",
    "Para poder calcular los numeros con congruencias lineales procedemos a realizar por el metodo que nos permite calcular cada numero unico diferente al anterior."
   ]
  },
  {
   "cell_type": "code",
   "execution_count": 5,
   "metadata": {},
   "outputs": [
    {
     "name": "stdout",
     "output_type": "stream",
     "text": [
      "\n",
      "Metodo-Congruencias_Lineales\n",
      "  n    Xo       Un    Xn+1\n",
      "  0     1    0.1429     0\n",
      "  1     0    0.0     2\n",
      "  2     2    0.2857     5\n",
      "  3     5    0.7143     6\n",
      "  4     6    0.8571     4\n",
      "  5     4    0.5714     1\n"
     ]
    }
   ],
   "source": [
    "def cg_lineales(semilla, multiplicador, constante_aditiva, modulo): \n",
    "    periodo = 0\n",
    "    bandera = 0\n",
    "    cont = 0\n",
    "    valor_anterior = 0\n",
    "    print(\"\")\n",
    "    print(\"Metodo-Congruencias_Lineales\")\n",
    "    print(\"  n  \", \" Xo \", \"     Un \", \"  Xn+1\")\n",
    "    while(bandera != semilla):\n",
    "        if (periodo == 0):\n",
    "            bandera = semilla\n",
    "        valor_anterior=semilla\n",
    "        semilla = (multiplicador * semilla + constante_aditiva) % modulo\n",
    "        print(\" \", cont,\"   \", valor_anterior,\"  \", round(valor_anterior / modulo, 4), \"   \", semilla)\n",
    "        periodo = periodo + 1\n",
    "        cont=cont+1\n",
    "def main():\n",
    "    semilla = 1\n",
    "    multiplicador = 5\n",
    "    constante_aditiva = 9\n",
    "    modulo = 7\n",
    "    cg_lineales(semilla,multiplicador,constante_aditiva,modulo)\n",
    "main()"
   ]
  }
 ],
 "metadata": {
  "kernelspec": {
   "display_name": "Python 3",
   "language": "python",
   "name": "python3"
  },
  "language_info": {
   "codemirror_mode": {
    "name": "ipython",
    "version": 3
   },
   "file_extension": ".py",
   "mimetype": "text/x-python",
   "name": "python",
   "nbconvert_exporter": "python",
   "pygments_lexer": "ipython3",
   "version": "3.8.3"
  }
 },
 "nbformat": 4,
 "nbformat_minor": 4
}
