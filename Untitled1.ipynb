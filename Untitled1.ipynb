{
 "cells": [
  {
   "cell_type": "code",
   "execution_count": 2,
   "metadata": {},
   "outputs": [
    {
     "name": "stdout",
     "output_type": "stream",
     "text": [
      "Introduce el valor de la semilla: (Xo)-> 1\n",
      "Introduce el valor del multiplicador: (a)-> 5\n",
      "Introduce el valor de la constante aditiva: (b)-> 1\n",
      "Introduce el valor del modulo: (m)-> 9\n",
      "\n",
      "Metodo de Congruencias Lineales\n",
      "  n    Xo       Un    Xn+1\n",
      "  0     1    0.1111     6\n",
      "  1     6    0.6667     4\n",
      "  2     4    0.4444     3\n",
      "  3     3    0.3333     7\n",
      "  4     7    0.7778     0\n",
      "  5     0    0.0     1\n"
     ]
    }
   ],
   "source": [
    "def m_congruencias_lineales(x, a, c, mod):\n",
    " \n",
    "    periodo = 0\n",
    "    bandera = 0\n",
    "    cont = 0\n",
    "    xant = 0\n",
    "    print(\"\")\n",
    "    print(\"Metodo de Congruencias Lineales\")\n",
    "    print(\"  n  \", \" Xo \", \"     Un \", \"  Xn+1\")\n",
    "    while(bandera != x):\n",
    "        if (periodo == 0):\n",
    "            bandera = x\n",
    "        xant=x\n",
    "        x = (a * x + c) % mod\n",
    "        print(\" \", cont,\"   \", xant,\"  \", round(xant/mod,4),\"   \", x)\n",
    "        periodo = periodo + 1\n",
    "        cont=cont+1\n",
    "\n",
    "def main():\n",
    "    x = int(input(\"Introduce el valor de la semilla: (Xo)-> \"))\n",
    "    a = int(input(\"Introduce el valor del multiplicador: (a)-> \"))\n",
    "    c = int(input(\"Introduce el valor de la constante aditiva: (b)-> \"))\n",
    "    m = int(input(\"Introduce el valor del modulo: (m)-> \"))\n",
    "    m_congruencias_lineales(x,a,c,m)\n",
    "\n",
    "if __name__ == \"__main__\":\n",
    "    main()"
   ]
  },
  {
   "cell_type": "code",
   "execution_count": null,
   "metadata": {},
   "outputs": [],
   "source": []
  }
 ],
 "metadata": {
  "kernelspec": {
   "display_name": "Python 3",
   "language": "python",
   "name": "python3"
  },
  "language_info": {
   "codemirror_mode": {
    "name": "ipython",
    "version": 3
   },
   "file_extension": ".py",
   "mimetype": "text/x-python",
   "name": "python",
   "nbconvert_exporter": "python",
   "pygments_lexer": "ipython3",
   "version": "3.8.3"
  }
 },
 "nbformat": 4,
 "nbformat_minor": 4
}
