{
 "cells": [
  {
   "cell_type": "markdown",
   "metadata": {},
   "source": [
    "# PRUEBA \n",
    "### Nombres: Malki Yupanki\n",
    "\n",
    "Introducción:\n",
    "Es fundamental verificar la calidad de los números  pseudoaleatorios. Ademas es importante no olvidar las 2 propiedades más importantes que deben tener los números pseudoaleatorios: uniformidad e independencia.\n",
    "\n",
    "La uniformidad se puede verificar usando las pruebas de bondad de ajuste test Chi Cuadrada\n",
    "\n",
    "Chi-Cuadrada\n",
    "\n",
    "Esta prueba verifica la desviación del valor esperado y  se usa cuando se trabaja con variables nominales (categorías o grupos)\n",
    "Debemos responder a la pregunta: ¿Difieren las frecuencias observadas de la frecuencia esperada?\n",
    "\n",
    "Pasos para aplicar la prueba:\n",
    "\n",
    "1. Tomar la serie de N números pseudo-aleatorios.\n",
    "\n",
    "2. Dividir la serie en n intervalos (grados libertad)\n",
    "\n",
    "3. Calcular la esperanza\n",
    "E_i=N/n\n",
    "4. Calcular la cantidad de números observados por intervalo O_i\n",
    "5. Calcular Chi – Cuadrado:\n",
    "    -χ_0^2=(∑_(i=1)^k 〖(O_i-E_i)〗^2)/E_i \n",
    "6. Si χ_0^2⩽χ_(k-1)^2 se acepta H0  (los números están distribuidos uniformemente)\n",
    "\n",
    "### DESARROLLO\n",
    "\n",
    "Para el desarrollo de la prueba procedemos a crear los diferentes metodos que nos permitiran ralizae los calculos que se solicitan para la evaluacion. \n",
    "\n",
    "Luego de definir los meotodos procemos a realizar los calculos con los datos que se entrwegaron:\n",
    "\n",
    " Cuadrados medios: Xo=74731897457, D=7\n",
    " \n",
    " Congruencia lineal: a=74731897457, b=37747318974, Xo=7, M=19\n"
   ]
  },
  {
   "cell_type": "code",
   "execution_count": 88,
   "metadata": {},
   "outputs": [],
   "source": [
    "import numpy as np\n",
    "import math as mtp\n",
    "import matplotlib.pyplot as plt"
   ]
  },
  {
   "cell_type": "code",
   "execution_count": 89,
   "metadata": {},
   "outputs": [],
   "source": [
    "def cortes(num_digitos):\n",
    "    digstos1 =0\n",
    "    digitos2=0\n",
    "    if num_digitos%2 !=0:\n",
    "        digstos1 = int(num_digitos / 2)\n",
    "        digitos2 = int(num_digitos / 2) + 1\n",
    "    else:\n",
    "        digstos1 = int(num_digitos / 2)\n",
    "        digitos2 = int(num_digitos / 2)\n",
    "    return digstos1,digitos2\n",
    "\n",
    "def calculo_num(num_iteras, valor_inicio, num_digitos):\n",
    "    lista =[]\n",
    "    semilla_xi = int(valor_inicio)\n",
    "    aux = cortes(num_digitos)\n",
    "    for i in range(num_iteras):\n",
    "        xn2= semilla_xi ** 2\n",
    "        lon = len(str(xn2))\n",
    "        ui = str(xn2)[int(lon/2)-aux[0]:int(lon/2)+aux[1]]\n",
    "        rn = int(ui) / 10 ** num_digitos\n",
    "        lista.append(rn)\n",
    "        semilla_xi=int(ui)\n",
    "    return lista\n",
    "def lista_Numeros(grupos, aux_incremento, lista):\n",
    "    grupos = []\n",
    "    rango_aux = 0.00\n",
    "    for i in range(grupos + 1):\n",
    "        grupos.append(round(rango_aux, 2))\n",
    "        rango_aux = rango_aux + aux_incremento\n",
    "    aux_inicio = 0\n",
    "    aux_nuevo = 1\n",
    "    rangos = {}\n",
    "    for i in range(len(grupos) - 1):\n",
    "        minimo = grupos[aux_inicio]\n",
    "        maximo = grupos[aux_nuevo]\n",
    "        rangos.update({str(minimo) + \",\" + str(maximo): []})\n",
    "        for i in lista:\n",
    "            if i == 0.00:\n",
    "                if i >= minimo and i <= maximo:\n",
    "                    rangos[str(minimo) + \",\" + str(maximo)].append(i)\n",
    "            else:\n",
    "                if i > minimo and i <= maximo:\n",
    "                    rangos[str(minimo) + \",\" + str(maximo)].append(i)\n",
    "        aux_inicio = aux_nuevo\n",
    "        aux_nuevo = aux_inicio + 1\n",
    "    return rangos\n",
    "\n",
    "def metodo_CHI(lista, valor):\n",
    "    n = int(mtp.sqrt(len(lista)))\n",
    "    dic = lista_to_dict(n,1/n, lista)\n",
    "    suma = 0.00\n",
    "    print(\"X_I\", \"     Ei    \", \"      Oi \", \" (Oi-Ei)**2/Ei\")\n",
    "    for x, it in enumerate(dic.items()):\n",
    "        f = ((len(it[1])-n)**2)/n\n",
    "        suma+=f\n",
    "        print(x, \"  \", str(n)+\"(\"+it[0]+\")     \", len(it[1]),\"     \", f)\n",
    "    plt.hist(lista)\n",
    "    plt.ylabel('Repeticiones')\n",
    "    plt.xlabel('Intervaloes')\n",
    "    plt.title('Chi-Cuadrado')\n",
    "    plt.show()\n",
    "    print(\"Suma: \",suma)\n",
    "    if suma< valor:\n",
    "        return True\n",
    "    else:\n",
    "        return False\n",
    "\n",
    "def metodo_PRODMED(x, a, c, mod, iters):\n",
    "    num = 0.00\n",
    "    lista = []\n",
    "    for i in range(iters):\n",
    "        x = (a * x + c) % mod\n",
    "        num = round(x / mod, 2)\n",
    "        lista.append(num)\n",
    "    return lista\n"
   ]
  },
  {
   "cell_type": "code",
   "execution_count": 90,
   "metadata": {},
   "outputs": [
    {
     "name": "stdout",
     "output_type": "stream",
     "text": [
      "X_I      Ei           Oi   (Oi-Ei)**2/Ei\n",
      "0    10(0.0,0.1)      10       0.0\n",
      "1    10(0.1,0.2)      17       4.9\n",
      "2    10(0.2,0.3)      14       1.6\n",
      "3    10(0.3,0.4)      7       0.9\n",
      "4    10(0.4,0.5)      11       0.1\n",
      "5    10(0.5,0.6)      11       0.1\n",
      "6    10(0.6,0.7)      6       1.6\n",
      "7    10(0.7,0.8)      6       1.6\n",
      "8    10(0.8,0.9)      8       0.4\n",
      "9    10(0.9,1.0)      10       0.0\n"
     ]
    },
    {
     "data": {
      "image/png": "[encoded data removed]",
      "text/plain": [
       "<Figure size 432x288 with 1 Axes>"
      ]
     },
     "metadata": {
      "needs_background": "light"
     },
     "output_type": "display_data"
    },
    {
     "name": "stdout",
     "output_type": "stream",
     "text": [
      "Suma:  11.2\n"
     ]
    }
   ],
   "source": [
    "valor = 16.9\n",
    "valores_iniciales =[74731897457]\n",
    "iteraciones = 100\n",
    "digitos_iniciales = 7\n",
    "lista = calculo_num(iteraciones, i, digitos_iniciales)\n",
    "res=metodo_CHI(lista,valor)\n"
   ]
  },
  {
   "cell_type": "code",
   "execution_count": 91,
   "metadata": {},
   "outputs": [
    {
     "name": "stdout",
     "output_type": "stream",
     "text": [
      "X_I      Ei           Oi   (Oi-Ei)**2/Ei\n",
      "0    10(0.0,0.1)      11       0.1\n",
      "1    10(0.1,0.2)      11       0.1\n",
      "2    10(0.2,0.3)      0       10.0\n",
      "3    10(0.3,0.4)      22       14.4\n",
      "4    10(0.4,0.5)      0       10.0\n",
      "5    10(0.5,0.6)      0       10.0\n",
      "6    10(0.6,0.7)      11       0.1\n",
      "7    10(0.7,0.8)      11       0.1\n",
      "8    10(0.8,0.9)      23       16.9\n",
      "9    10(0.9,1.0)      11       0.1\n"
     ]
    },
    {
     "data": {
      "image/png": "[encoded data removed]",
      "text/plain": [
       "<Figure size 432x288 with 1 Axes>"
      ]
     },
     "metadata": {
      "needs_background": "light"
     },
     "output_type": "display_data"
    },
    {
     "name": "stdout",
     "output_type": "stream",
     "text": [
      "Suma:  61.800000000000004\n"
     ]
    }
   ],
   "source": [
    "x = 7 \n",
    "a = 74731897457 \n",
    "b = 37747318974\n",
    "M = 19\n",
    "lista2 = metodo_PRODMED(x,a,b,M,iteraciones)\n",
    "res2 = metodo_CHI(lista2,valor)\n"
   ]
  },
  {
   "cell_type": "code",
   "execution_count": null,
   "metadata": {},
   "outputs": [],
   "source": []
  }
 ],
 "metadata": {
  "kernelspec": {
   "display_name": "Python 3",
   "language": "python",
   "name": "python3"
  },
  "language_info": {
   "codemirror_mode": {
    "name": "ipython",
    "version": 3
   },
   "file_extension": ".py",
   "mimetype": "text/x-python",
   "name": "python",
   "nbconvert_exporter": "python",
   "pygments_lexer": "ipython3",
   "version": "3.8.3"
  }
 },
 "nbformat": 4,
 "nbformat_minor": 4
}
